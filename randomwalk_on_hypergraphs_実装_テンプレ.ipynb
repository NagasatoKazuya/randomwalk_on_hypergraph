{
  "nbformat": 4,
  "nbformat_minor": 0,
  "metadata": {
    "colab": {
      "provenance": []
    },
    "kernelspec": {
      "name": "python3",
      "display_name": "Python 3"
    },
    "language_info": {
      "name": "python"
    }
  },
  "cells": [
    {
      "cell_type": "code",
      "execution_count": null,
      "metadata": {
        "id": "yNTeTp3UAEfm"
      },
      "outputs": [],
      "source": [
        "import hypergraph\n",
        "import random\n",
        "import numpy as np\n",
        "import matplotlib.pyplot as plt\n",
        "from gensim.models import Word2Vec\n",
        "from sklearn.model_selection import train_test_split\n",
        "from sklearn.linear_model import LogisticRegression\n",
        "from sklearn.metrics import confusion_matrix, accuracy_score, precision_score, recall_score, f1_score"
      ]
    },
    {
      "cell_type": "code",
      "source": [
        "G = hypergraph.HyperGraph()"
      ],
      "metadata": {
        "id": "ZrB9uoqOAO4x"
      },
      "execution_count": null,
      "outputs": []
    },
    {
      "cell_type": "code",
      "source": [
        "dataset = \"senate-bills\""
      ],
      "metadata": {
        "id": "cJzRWBsrD7aP"
      },
      "execution_count": null,
      "outputs": []
    },
    {
      "cell_type": "code",
      "source": [
        "with open(\"hyperedges-{}.txt\".format(dataset)) as f:\n",
        "  for line in f:\n",
        "    hyperedge = list(map(int, line.rstrip(\"\\n\").split(\",\")))\n",
        "    G.E.append(hyperedge)"
      ],
      "metadata": {
        "id": "WpxaGW18ASZv"
      },
      "execution_count": null,
      "outputs": []
    },
    {
      "cell_type": "code",
      "source": [
        "labels = []\n",
        "with open(\"node-labels-{}.txt\".format(dataset)) as f:\n",
        "  for line in f:\n",
        "    labels.append(int(line[0]))"
      ],
      "metadata": {
        "id": "wGvwWVV4AYlu"
      },
      "execution_count": null,
      "outputs": []
    },
    {
      "cell_type": "code",
      "source": [
        "v_max = 0\n",
        "for edge in G.E:\n",
        "  for j in edge:\n",
        "    if v_max <= j:\n",
        "      v_max = j\n",
        "G.V = [i for i in range(1, v_max+1)]"
      ],
      "metadata": {
        "id": "LmbPop6vAdCk"
      },
      "execution_count": null,
      "outputs": []
    },
    {
      "cell_type": "code",
      "source": [
        "G.elist = {v: [] for v in G.V}\n",
        "for i in range(len(G.E)):\n",
        "  for v in G.E[i]:\n",
        "    G.elist[v].append(i)"
      ],
      "metadata": {
        "id": "5uRPuAi8Afto"
      },
      "execution_count": null,
      "outputs": []
    },
    {
      "cell_type": "code",
      "source": [
        "#ノードiの隣接ノード取得\n",
        "def get_adj(E, elist, node):\n",
        "  adj = []\n",
        "  for i in elist[node]:\n",
        "    for j in E[i]:\n",
        "      if j != node:\n",
        "        adj.append(j)\n",
        "  return adj"
      ],
      "metadata": {
        "id": "LcJ5IQlGAk4r"
      },
      "execution_count": null,
      "outputs": []
    },
    {
      "cell_type": "code",
      "source": [
        "for node in G.V:\n",
        "  G.adj.append(get_adj(G.E, G.elist, node))"
      ],
      "metadata": {
        "id": "UpfPbdgQArdo"
      },
      "execution_count": null,
      "outputs": []
    },
    {
      "cell_type": "code",
      "source": [
        "def get_K(V, E, beta=1):\n",
        "  K = [[0 for i in range(len(V))] for j in range(len(V))]\n",
        "  count = 0\n",
        "  for edge in E:\n",
        "    for i in range(len(edge)):\n",
        "      for j in range(i+1, len(edge)):\n",
        "        K[edge[i]-1][edge[j]-1] += (len(edge)-1) ** beta\n",
        "        K[edge[j]-1][edge[i]-1] += (len(edge)-1) ** beta\n",
        "    count += 1\n",
        "    print(\"about\", (count/len(E))*100, \"percent done.\")\n",
        "  return np.array(K)\n",
        "\n",
        "\n",
        "def trans_prob(V, K):\n",
        "  K_row = np.array([np.sum(K[i]) for i in range(len(V))])\n",
        "  T = np.array([[K[i][j] / K_row[i] for j in range(len(V))] for i in range(len(V))])\n",
        "  return T"
      ],
      "metadata": {
        "id": "EQkExfh-AuWS"
      },
      "execution_count": null,
      "outputs": []
    },
    {
      "cell_type": "code",
      "source": [
        "def transition(now_node, T):\n",
        "  next_node = random.choices([i+1 for i in range(len(T[0]))], k=1, weights=T[now_node-1])\n",
        "  return next_node[0]\n",
        "\n",
        "def random_walk(initial_node, walk_length, T):\n",
        "  now_node = initial_node\n",
        "  walk = [now_node]\n",
        "  for step in range(walk_length):\n",
        "    now_node = transition(now_node, T)\n",
        "    walk.append(now_node)\n",
        "  return walk"
      ],
      "metadata": {
        "id": "C0uIuvvcAyY-"
      },
      "execution_count": null,
      "outputs": []
    },
    {
      "cell_type": "code",
      "source": [
        "beta=-1\n",
        "K = get_K(G.V, G.E, beta=beta)\n",
        "T = trans_prob(G.V, K)"
      ],
      "metadata": {
        "id": "7j1x-7GwA11x"
      },
      "execution_count": null,
      "outputs": []
    },
    {
      "cell_type": "code",
      "source": [
        "random.seed(0)\n",
        "walks = [list(map(str, random_walk(i, 30, T))) for i in range(1, len(G.V)+1) for j in range(80)]\n",
        "model = Word2Vec(walks, sg=1, size=128, window=10, min_count=0)"
      ],
      "metadata": {
        "id": "crcaVqN_A4oP"
      },
      "execution_count": null,
      "outputs": []
    },
    {
      "cell_type": "code",
      "source": [
        "#ロジスティック回帰\n",
        "X = [model.wv[str(node)] for node in G.V]\n",
        "Y = np.array(labels)  \n",
        "\n",
        "X_train, X_test, Y_train, Y_test = train_test_split(X, Y, test_size=0.2, random_state=0, shuffle=True) \n",
        "\n",
        "lr = LogisticRegression() \n",
        "lr.fit(X_train, Y_train) # ロジスティック回帰モデルの重みを学習\n",
        "\n",
        "Y_pred = lr.predict(X_test)"
      ],
      "metadata": {
        "id": "yuNIg-ShA7ta"
      },
      "execution_count": null,
      "outputs": []
    },
    {
      "cell_type": "code",
      "source": [
        "print('confusion matrix = \\n', confusion_matrix(y_true=Y_test, y_pred=Y_pred))\n",
        "print('accuracy = ', accuracy_score(y_true=Y_test, y_pred=Y_pred))\n",
        "print('precision = ', precision_score(y_true=Y_test, y_pred=Y_pred, average=\"micro\"))\n",
        "print('recall = ', recall_score(y_true=Y_test, y_pred=Y_pred, average=\"micro\"))\n",
        "print('f1 score = ', f1_score(y_true=Y_test, y_pred=Y_pred, average=\"micro\"))"
      ],
      "metadata": {
        "id": "6oRAddHCBMPj"
      },
      "execution_count": null,
      "outputs": []
    },
    {
      "cell_type": "code",
      "source": [],
      "metadata": {
        "id": "JqwKLe87BNEc"
      },
      "execution_count": null,
      "outputs": []
    },
    {
      "cell_type": "code",
      "source": [
        "#図作る\n",
        "def create_model(G, T, walk_length, walk_num, emb_dim, window_size=10):\n",
        "  walks = [list(map(str, random_walk(i, walk_length, T))) for i in range(1, len(G.V)+1) for j in range(walk_num)]\n",
        "  model = Word2Vec(walks, sg=1, size=emb_dim, window=window_size, min_count=0)\n",
        "  return model\n",
        "\n",
        "def F1_score(G, model, test_size=0.2):\n",
        "  X = [model.wv[str(node)] for node in G.V]\n",
        "  Y = np.array(labels)  \n",
        "\n",
        "  X_train, X_test, Y_train, Y_test = train_test_split(X, Y, test_size=test_size, random_state=0, shuffle=True) \n",
        "\n",
        "  lr = LogisticRegression() \n",
        "  lr.fit(X_train, Y_train) # ロジスティック回帰モデルの重みを学習\n",
        "\n",
        "  Y_pred = lr.predict(X_test)\n",
        "\n",
        "  micro_f1 = f1_score(y_true=Y_test, y_pred=Y_pred, average=\"micro\")\n",
        "  macro_f1 = f1_score(y_true=Y_test, y_pred=Y_pred, average=\"macro\")\n",
        "\n",
        "  return micro_f1, macro_f1"
      ],
      "metadata": {
        "id": "aQyDZQQD-0RM"
      },
      "execution_count": null,
      "outputs": []
    },
    {
      "cell_type": "code",
      "source": [
        "#これ意味ない\n",
        "\n",
        "fig, axes = plt.subplots(1, 2)\n",
        "\n",
        "for walk_num in range(5, 70):\n",
        "  model = create_model(G, T, walk_length=20, walk_num=walk_num, emb_dim=8, window_size=10)\n",
        "  micro, macro = F1_score(G, model)\n",
        "  axes[0].scatter(walk_num, micro, color=\"blue\")\n",
        "  axes[1].scatter(walk_num, macro, color=\"blue\")\n",
        "  print(\"finish \", walk_num)\n",
        "axes[0].set_xlabel(\"walk_num\")\n",
        "axes[0].set_ylabel(\"micro-F1\")\n",
        "axes[1].set_xlabel(\"walk_num\")\n",
        "axes[1].set_ylabel(\"macro-F1\")\n",
        "plt.show()"
      ],
      "metadata": {
        "id": "UDRn9PYH-8nQ"
      },
      "execution_count": null,
      "outputs": []
    },
    {
      "cell_type": "code",
      "source": [],
      "metadata": {
        "id": "AgI7NcSkJCi9"
      },
      "execution_count": null,
      "outputs": []
    },
    {
      "cell_type": "code",
      "source": [
        "#実験実行、実験結果ファイル出力\n",
        "walk_length = 20\n",
        "walk_num = 64\n",
        "ed = 64\n",
        "\n",
        "f = open('beta{}-d{}-gamma{}-length{}.txt'.format(beta, ed, walk_num, walk_length), 'w')\n",
        "f.writelines([\"beta=\", str(beta), \" \", \"d=\", str(ed), \" \", \"gamma=\", str(walk_num), \" \", \"walk_length=\", str(walk_length), \"\\n\"])\n",
        "\n",
        "for i in range(20):\n",
        "  random.seed(i)\n",
        "  model = create_model(G, T, walk_length=walk_length, walk_num=walk_num, emb_dim=ed, window_size=10)\n",
        "  micro, macro = F1_score(G, model)\n",
        "  datalist = [str(micro), \" \", str(macro), \"\\n\"]\n",
        "  f.writelines(datalist)\n",
        "  print(\"finish \", i)\n",
        "f.close()"
      ],
      "metadata": {
        "colab": {
          "base_uri": "https://localhost:8080/"
        },
        "id": "_fcfSlGZcnwc",
        "outputId": "22d6d4cb-b353-43d9-e31f-34b82592d615"
      },
      "execution_count": null,
      "outputs": [
        {
          "output_type": "stream",
          "name": "stdout",
          "text": [
            "finish  0\n",
            "finish  1\n",
            "finish  2\n",
            "finish  3\n",
            "finish  4\n",
            "finish  5\n",
            "finish  6\n",
            "finish  7\n",
            "finish  8\n",
            "finish  9\n",
            "finish  10\n",
            "finish  11\n",
            "finish  12\n",
            "finish  13\n",
            "finish  14\n",
            "finish  15\n",
            "finish  16\n",
            "finish  17\n",
            "finish  18\n",
            "finish  19\n"
          ]
        }
      ]
    },
    {
      "cell_type": "code",
      "source": [],
      "metadata": {
        "id": "XRuqjBg9Ld2z"
      },
      "execution_count": null,
      "outputs": []
    },
    {
      "cell_type": "code",
      "source": [
        "def read_file(beta, d, gamma, length):\n",
        "  micros = []\n",
        "  macros = []\n",
        "  with open(\"beta{}-d{}-gamma{}-length{}.txt\".format(beta, d, gamma, length)) as f:\n",
        "    for line in f:\n",
        "      if line[0] == \"b\":\n",
        "        continue\n",
        "      else:\n",
        "        micro, macro = list(map(float, line.rstrip(\"\\n\").split(\" \")))\n",
        "        micros.append(micro)\n",
        "        macros.append(macro)\n",
        "  micros = np.array(micros)\n",
        "  std = np.std(micros)\n",
        "\n",
        "  return np.mean(micros), std"
      ],
      "metadata": {
        "id": "FbJCGbjAh35u"
      },
      "execution_count": null,
      "outputs": []
    },
    {
      "cell_type": "code",
      "source": [
        "fig, ax = plt.subplots()\n",
        "\n",
        "betas = [-1, 0, 1]\n",
        "dims = [8, 16, 32, 64, 128]\n",
        "nums = [8, 16, 32, 64]\n",
        "colors = [\"r\", \"b\", \"g\"]\n",
        "x = [10, 20, 30, 40]\n",
        "X = [[8.5+j*1.5 + 10*i for i in range(4)] for j in range(len(betas))]\n",
        "count = 0\n",
        "for beta in betas:\n",
        "  Y_1 = []\n",
        "  Y_1_err = [[], []]\n",
        "  for num in nums:\n",
        "    avg, std = read_file(beta, 64, num, 20)\n",
        "    Y_1.append(avg)\n",
        "    Y_1_err[0].append(std)\n",
        "    Y_1_err[1].append(std)\n",
        "\n",
        "  ax.errorbar(X[count], Y_1, yerr=Y_1_err, capsize=5, fmt='o-{}'.format(colors[count]), markersize=10, ecolor='black', markeredgecolor = \"black\", color='black', label=\"beta={}\".format(beta))\n",
        "  count += 1\n",
        "\n",
        "ax.set_title(\"emb_dim=64 walk_length=20\")\n",
        "ax.set_xlabel(\"walks per node\")\n",
        "ax.set_ylabel(\"micro F1 score\")\n",
        "ax.set_xlim([0, 50])\n",
        "plt.xticks(x, [8, 16, 32, 64])\n",
        "#ax.legend(fontsize=8)\n",
        "plt.show()"
      ],
      "metadata": {
        "colab": {
          "base_uri": "https://localhost:8080/",
          "height": 295
        },
        "id": "szoSipSCzfO-",
        "outputId": "fb505a9b-b670-49f7-e9e5-1a04aced46f7"
      },
      "execution_count": null,
      "outputs": [
        {
          "output_type": "display_data",
          "data": {
            "text/plain": [
              "<Figure size 432x288 with 1 Axes>"
            ],
            "image/png": "[encoded data removed]"
          },
          "metadata": {
            "needs_background": "light"
          }
        }
      ]
    },
    {
      "cell_type": "code",
      "source": [],
      "metadata": {
        "id": "tqhqg6Yl8szf"
      },
      "execution_count": null,
      "outputs": []
    }
  ]
}